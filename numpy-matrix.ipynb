{
 "cells": [
  {
   "cell_type": "code",
   "execution_count": 6,
   "metadata": {},
   "outputs": [
    {
     "data": {
      "text/plain": [
       "array([1, 2, 3, 4])"
      ]
     },
     "execution_count": 6,
     "metadata": {},
     "output_type": "execute_result"
    }
   ],
   "source": [
    "import numpy as np\n",
    "my_list=[1,2,3,4]\n",
    "arr=np.array(my_list)\n",
    "arr"
   ]
  },
  {
   "cell_type": "code",
   "execution_count": 35,
   "metadata": {},
   "outputs": [
    {
     "data": {
      "text/plain": [
       "array([[77, 41, 65, 62, 38,  6, 25, 83,  5, 99],\n",
       "       [66, 94,  3, 44, 17, 53, 90, 59,  0, 42],\n",
       "       [31, 15,  4, 90, 77, 47, 39, 57, 24, 80],\n",
       "       [17, 87,  4, 26, 18, 13, 77,  5, 11, 65],\n",
       "       [99,  2, 46,  2, 19, 20, 72, 58, 66, 51],\n",
       "       [67, 99, 52, 42, 25, 34, 26,  7, 17, 61],\n",
       "       [87, 84, 77, 83, 10, 24, 80, 93,  9, 23],\n",
       "       [55, 88, 22, 33, 21, 86, 76, 38, 27, 96],\n",
       "       [36, 70, 14, 73, 56, 24, 69, 11, 19, 74],\n",
       "       [56, 54, 95, 19, 89, 92, 57, 58, 82,  0]])"
      ]
     },
     "execution_count": 35,
     "metadata": {},
     "output_type": "execute_result"
    }
   ],
   "source": [
    "np.random.randint(0,100,(10,10))"
   ]
  },
  {
   "cell_type": "code",
   "execution_count": null,
   "metadata": {},
   "outputs": [],
   "source": []
  },
  {
   "cell_type": "code",
   "execution_count": 21,
   "metadata": {},
   "outputs": [
    {
     "data": {
      "text/plain": [
       "array([[1., 1.]])"
      ]
     },
     "execution_count": 21,
     "metadata": {},
     "output_type": "execute_result"
    }
   ],
   "source": [
    "np.arange(0,10)\n",
    "np.ones((1,2))"
   ]
  }
 ],
 "metadata": {
  "kernelspec": {
   "display_name": "Python 3",
   "language": "python",
   "name": "python3"
  },
  "language_info": {
   "codemirror_mode": {
    "name": "ipython",
    "version": 3
   },
   "file_extension": ".py",
   "mimetype": "text/x-python",
   "name": "python",
   "nbconvert_exporter": "python",
   "pygments_lexer": "ipython3",
   "version": "3.7.0"
  }
 },
 "nbformat": 4,
 "nbformat_minor": 4
}
